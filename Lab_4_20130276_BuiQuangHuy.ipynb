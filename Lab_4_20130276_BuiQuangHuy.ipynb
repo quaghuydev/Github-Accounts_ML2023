{
  "nbformat": 4,
  "nbformat_minor": 0,
  "metadata": {
    "colab": {
      "provenance": [],
      "include_colab_link": true
    },
    "kernelspec": {
      "name": "python3",
      "display_name": "Python 3"
    },
    "language_info": {
      "name": "python"
    }
  },
  "cells": [
    {
      "cell_type": "markdown",
      "metadata": {
        "id": "view-in-github",
        "colab_type": "text"
      },
      "source": [
        "<a href=\"https://colab.research.google.com/github/buiquanghuy20130276/Github-Accounts_ML2023/blob/master/Lab_4_20130276_BuiQuangHuy.ipynb\" target=\"_parent\"><img src=\"https://colab.research.google.com/assets/colab-badge.svg\" alt=\"Open In Colab\"/></a>"
      ]
    },
    {
      "cell_type": "markdown",
      "source": [
        "# This lab is to continous dealing with **Logistic Regression**, **kNN**, and **Decision Tree** alogirthms applied to classification tasks. \n",
        "\n",
        "*   **Deadline: 23:59, 12/03/2023**\n",
        "\n"
      ],
      "metadata": {
        "id": "LMzehe0sy5wr"
      }
    },
    {
      "cell_type": "markdown",
      "source": [
        "# Import libraries"
      ],
      "metadata": {
        "id": "H4nJmxp9zGX4"
      }
    },
    {
      "cell_type": "code",
      "execution_count": 1,
      "metadata": {
        "id": "DoVWQ8AEyc-C"
      },
      "outputs": [],
      "source": [
        "# code\n",
        "from sklearn.linear_model import LogisticRegression \n",
        "from sklearn.metrics import confusion_matrix \n",
        "from sklearn.metrics import accuracy_score\n",
        "from sklearn.metrics import f1_score\n",
        "import matplotlib.pyplot as plt\n",
        "from sklearn.neighbors import KNeighborsClassifier\n",
        "model = KNeighborsClassifier(n_neighbors=3)\n"
      ]
    },
    {
      "cell_type": "markdown",
      "source": [
        "#Task 1. \n",
        "Apply **LogisticRegression** to iris dataset which aims at classifying species of iris based on sepal_length (chiều dài đài hoa), sepal_width, petal_length (chiều dài cánh hoa), petal_width. The species are '**setosa**' '**versicolor**' and '**virginica**'. \n",
        "\n",
        "\n",
        "\n",
        "```\n",
        "from sklearn import datasets\n",
        "data4 = datasets.load_iris()\n",
        "```\n",
        "\n",
        "\n"
      ],
      "metadata": {
        "id": "kNv07ARGzOUm"
      }
    },
    {
      "cell_type": "code",
      "source": [
        "\n",
        "# code\n",
        "from sklearn.model_selection import train_test_split\n",
        "from sklearn import datasets\n",
        "from sklearn.linear_model import LogisticRegression \n",
        "from sklearn.metrics import confusion_matrix \n",
        "from sklearn.metrics import accuracy_score\n",
        "from sklearn.metrics import recall_score\n",
        "from sklearn.metrics import precision_score\n",
        "from sklearn import metrics\n",
        "\n",
        "data4 = datasets.load_iris()\n",
        "classifier = LogisticRegression(random_state = 0) \n",
        "\n",
        "X_train, X_test, y_train, y_test = train_test_split(data4['data'], data4['target'], test_size=0.3, random_state=1)\n",
        "\n",
        "classifier.fit(X_train, y_train) \n",
        "y_pre = classifier.predict(X_test)\n",
        "cm = confusion_matrix(y_test,y_test)\n",
        "\n",
        "print('accuracy: ',accuracy_score(y_test,y_pre))\n",
        "print('confusion: ',cm)\n",
        "print('recall: ',recall_score(y_test,y_pre,average=None))\n",
        "\n",
        "\n",
        "\n"
      ],
      "metadata": {
        "id": "sOsg77IBzEyo",
        "colab": {
          "base_uri": "https://localhost:8080/"
        },
        "outputId": "5e4e17e5-4b04-46d9-9cc7-af82c7006503"
      },
      "execution_count": 3,
      "outputs": [
        {
          "output_type": "stream",
          "name": "stdout",
          "text": [
            "accuracy:  0.9777777777777777\n",
            "confusion:  [[14  0  0]\n",
            " [ 0 18  0]\n",
            " [ 0  0 13]]\n",
            "recall:  [1.         0.94444444 1.        ]\n"
          ]
        }
      ]
    },
    {
      "cell_type": "markdown",
      "source": [
        "#Task 2. \n",
        "Apply LogisticRegression to **MNIST** dataset (mnist.csv) which aims at classifying handwritten digits. Dataset includes 784 pixels values of images (28x28). \n",
        "\n",
        "\n",
        "```\n",
        "from sklearn import datasets\n",
        "# load the MNIST digits dataset\n",
        "mnist = datasets.load_digits()\n",
        "```\n",
        "\n"
      ],
      "metadata": {
        "id": "S43IoUT-0OQq"
      }
    },
    {
      "cell_type": "code",
      "source": [
        "# code\n",
        "from sklearn import datasets\n",
        "mnist = datasets.load_digits()\n",
        "\n",
        "classifier = LogisticRegression(random_state = 0) \n",
        "X_train, X_test, y_train, y_test = train_test_split(mnist['data'], mnist['target'], test_size=0.3, random_state=1)\n",
        "\n",
        "classifier.fit(X_train, y_train) \n",
        "y_pre1 = classifier.predict(X_test)\n",
        "cm = confusion_matrix(y_test,y_pre1)\n",
        "\n",
        "print('accuracy: ',accuracy_score(y_test,y_pre1))\n",
        "print('confusion: ',cm)\n",
        "print('recall: ',recall_score(y_test,y_pre1,average=None))\n",
        "\n",
        "\n"
      ],
      "metadata": {
        "id": "_xhPpF5b033h",
        "colab": {
          "base_uri": "https://localhost:8080/"
        },
        "outputId": "d1d3b888-0436-4c88-971e-23e14f686962"
      },
      "execution_count": 4,
      "outputs": [
        {
          "output_type": "stream",
          "name": "stdout",
          "text": [
            "accuracy:  0.9685185185185186\n",
            "confusion:  [[59  0  0  0  0  0  0  0  0  0]\n",
            " [ 0 48  0  0  1  0  0  0  0  0]\n",
            " [ 0  0 49  0  0  0  0  0  0  0]\n",
            " [ 0  0  1 61  0  0  0  1  1  0]\n",
            " [ 0  1  0  0 60  0  0  0  0  0]\n",
            " [ 0  1  1  1  0 43  0  0  0  1]\n",
            " [ 0  0  0  0  0  0 51  0  0  0]\n",
            " [ 0  0  0  1  1  0  0 54  0  1]\n",
            " [ 0  0  1  0  0  1  0  0 44  0]\n",
            " [ 0  1  0  0  0  1  0  0  1 54]]\n",
            "recall:  [1.         0.97959184 1.         0.953125   0.98360656 0.91489362\n",
            " 1.         0.94736842 0.95652174 0.94736842]\n"
          ]
        },
        {
          "output_type": "stream",
          "name": "stderr",
          "text": [
            "/usr/local/lib/python3.9/dist-packages/sklearn/linear_model/_logistic.py:458: ConvergenceWarning: lbfgs failed to converge (status=1):\n",
            "STOP: TOTAL NO. of ITERATIONS REACHED LIMIT.\n",
            "\n",
            "Increase the number of iterations (max_iter) or scale the data as shown in:\n",
            "    https://scikit-learn.org/stable/modules/preprocessing.html\n",
            "Please also refer to the documentation for alternative solver options:\n",
            "    https://scikit-learn.org/stable/modules/linear_model.html#logistic-regression\n",
            "  n_iter_i = _check_optimize_result(\n"
          ]
        }
      ]
    },
    {
      "cell_type": "markdown",
      "source": [
        "#Task 3. \n",
        "Apply another classification algorithm named kNN, which is an instance classifcation model. \n",
        "*  3.1. Perform kNN algorithm to Iris dataset with k={1, 3, 5, …, 29}. Select the best value of k.\n",
        "\n",
        "*   3.2. Then compare the obtained results with those using Logistic regression (based on metrics: accuracy, precision, recall, f1 measure).\n"
      ],
      "metadata": {
        "id": "Rti2y0Wz2KY9"
      }
    },
    {
      "cell_type": "code",
      "source": [
        "\n",
        "# code\n",
        "df = datasets.load_iris()\n",
        "k_range  =range(1,30,2)\n",
        "accu = []\n",
        "precision=[]\n",
        "recall =[]\n",
        "f1=[]\n",
        "X_train, X_test, y_train, y_test = train_test_split(data4['data'], data4['target'], test_size=0.3, random_state=1)\n",
        "\n",
        "for i in k_range :\n",
        "  knn = KNeighborsClassifier(n_neighbors=i)\n",
        "  knn.fit(X_train,y_train)\n",
        "  y_pre4 =knn.predict(X_test)\n",
        "  accu.append(accuracy_score(y_pre4,y_pre))\n",
        "  precision.append(precision_score(y_pre4,y_pre,average=None))\n",
        "  recall.append(recall_score(y_pre4,y_pre,average=None))\n",
        "  f1.append(f1_score(y_pre4,y_pre,average=None))\n",
        "\n",
        "print('accuracy',accu)\n",
        "print('f1',f1)\n",
        "print('precision',precision)\n",
        "print('recall',recall)\n",
        "\n",
        "plt.plot(k_range,accu)\n",
        "plt.xlabel(\"k\")\n",
        "\n"
      ],
      "metadata": {
        "id": "13LkkfpS2ZUR",
        "colab": {
          "base_uri": "https://localhost:8080/",
          "height": 386
        },
        "outputId": "66313158-6772-4368-df3e-f2205dbd3285"
      },
      "execution_count": 5,
      "outputs": [
        {
          "output_type": "stream",
          "name": "stdout",
          "text": [
            "accuracy [0.9555555555555556, 0.9555555555555556, 0.9555555555555556, 1.0, 1.0, 1.0, 1.0, 1.0, 1.0, 1.0, 1.0, 1.0, 1.0, 1.0, 1.0]\n",
            "f1 [array([1.        , 0.94444444, 0.92307692]), array([1.        , 0.94444444, 0.92307692]), array([1.        , 0.94444444, 0.92307692]), array([1., 1., 1.]), array([1., 1., 1.]), array([1., 1., 1.]), array([1., 1., 1.]), array([1., 1., 1.]), array([1., 1., 1.]), array([1., 1., 1.]), array([1., 1., 1.]), array([1., 1., 1.]), array([1., 1., 1.]), array([1., 1., 1.]), array([1., 1., 1.])]\n",
            "precision [array([1.        , 1.        , 0.85714286]), array([1.        , 1.        , 0.85714286]), array([1.        , 1.        , 0.85714286]), array([1., 1., 1.]), array([1., 1., 1.]), array([1., 1., 1.]), array([1., 1., 1.]), array([1., 1., 1.]), array([1., 1., 1.]), array([1., 1., 1.]), array([1., 1., 1.]), array([1., 1., 1.]), array([1., 1., 1.]), array([1., 1., 1.]), array([1., 1., 1.])]\n",
            "recall [array([1.        , 0.89473684, 1.        ]), array([1.        , 0.89473684, 1.        ]), array([1.        , 0.89473684, 1.        ]), array([1., 1., 1.]), array([1., 1., 1.]), array([1., 1., 1.]), array([1., 1., 1.]), array([1., 1., 1.]), array([1., 1., 1.]), array([1., 1., 1.]), array([1., 1., 1.]), array([1., 1., 1.]), array([1., 1., 1.]), array([1., 1., 1.]), array([1., 1., 1.])]\n"
          ]
        },
        {
          "output_type": "execute_result",
          "data": {
            "text/plain": [
              "Text(0.5, 0, 'k')"
            ]
          },
          "metadata": {},
          "execution_count": 5
        },
        {
          "output_type": "display_data",
          "data": {
            "text/plain": [
              "<Figure size 432x288 with 1 Axes>"
            ],
            "image/png": "[encoded data removed]"
          },
          "metadata": {
            "needs_background": "light"
          }
        }
      ]
    },
    {
      "cell_type": "markdown",
      "source": [
        "#Task 4. \n",
        "Similar to Task 3, apply kNN algorithm to **mnist** dataset which included in datasets of sklearn API.\n",
        "*  4.1.\tPerform kNN algorithm to Iris dataset with k={1, 3, 5, …, 29}. Select the best value of k.\n",
        "*  4.2.\tThen compare the obtained results with those using Logistic regression (based on metrics: accuracy, precision, recall, f1 measure).\n"
      ],
      "metadata": {
        "id": "b52OPWPD2afi"
      }
    },
    {
      "cell_type": "code",
      "source": [
        "# code\n",
        "mnist = datasets.load_digits()\n",
        "k_range  =range(1,30,2)\n",
        "accu = []\n",
        "precision=[]\n",
        "recall =[]\n",
        "f1=[]\n",
        "X_train, X_test, y_train, y_test = train_test_split(mnist['data'], mnist['target'], test_size=0.3, random_state=1)\n",
        "\n",
        "for i in k_range :\n",
        "  knn = KNeighborsClassifier(n_neighbors=i)\n",
        "  knn.fit(X_train,y_train)\n",
        "  y_pre5 =knn.predict(X_test)\n",
        "  accu.append(accuracy_score(y_pre5,y_pre1))\n",
        "  precision.append(precision_score(y_pre5,y_pre1,average=None))\n",
        "  recall.append(recall_score(y_pre5,y_pre1,average=None))\n",
        "  f1.append(f1_score(y_pre5,y_pre1,average=None))\n",
        "\n",
        "print('accuracy',accu)\n",
        "print('f1',f1)\n",
        "print('precision',precision)\n",
        "print('recall',recall)\n",
        "\n",
        "plt.plot(k_range,accu)\n",
        "plt.xlabel(\"k\")\n"
      ],
      "metadata": {
        "id": "Rw_-8FIf2KxW",
        "colab": {
          "base_uri": "https://localhost:8080/",
          "height": 1000
        },
        "outputId": "79b864db-1ab3-49bc-ced0-afb178d3d44e"
      },
      "execution_count": 6,
      "outputs": [
        {
          "output_type": "stream",
          "name": "stdout",
          "text": [
            "accuracy [0.9703703703703703, 0.9666666666666667, 0.9648148148148148, 0.9648148148148148, 0.9648148148148148, 0.9629629629629629, 0.9592592592592593, 0.9611111111111111, 0.9537037037037037, 0.9611111111111111, 0.9555555555555556, 0.9574074074074074, 0.9592592592592593, 0.9574074074074074, 0.9537037037037037]\n",
            "f1 [array([1.        , 0.96      , 0.96      , 0.953125  , 0.97560976,\n",
            "       0.95555556, 1.        , 0.96428571, 0.95652174, 0.97391304]), array([1.        , 0.95049505, 0.95049505, 0.95238095, 0.97560976,\n",
            "       0.93478261, 1.        , 0.96428571, 0.94505495, 0.98245614]), array([0.99145299, 0.95049505, 0.96      , 0.96062992, 0.96774194,\n",
            "       0.93478261, 1.        , 0.95575221, 0.94505495, 0.97345133]), array([0.99145299, 0.95049505, 0.96      , 0.96062992, 0.96774194,\n",
            "       0.93478261, 1.        , 0.95575221, 0.94505495, 0.97345133]), array([0.99145299, 0.96078431, 0.96      , 0.96062992, 0.97560976,\n",
            "       0.93478261, 1.        , 0.95575221, 0.93333333, 0.96491228]), array([0.99145299, 0.95049505, 0.96      , 0.96062992, 0.97560976,\n",
            "       0.93617021, 0.99029126, 0.95575221, 0.93333333, 0.96428571]), array([0.99145299, 0.94      , 0.96      , 0.95238095, 0.96774194,\n",
            "       0.93617021, 0.99029126, 0.95575221, 0.93333333, 0.95575221]), array([0.99145299, 0.94      , 0.97029703, 0.96      , 0.96774194,\n",
            "       0.94623656, 0.99029126, 0.94736842, 0.93333333, 0.95575221]), array([0.99145299, 0.94      , 0.96      , 0.9516129 , 0.96774194,\n",
            "       0.93617021, 0.99029126, 0.93913043, 0.91304348, 0.93693694]), array([0.99145299, 0.94      , 0.97029703, 0.96774194, 0.96774194,\n",
            "       0.94623656, 0.99029126, 0.94827586, 0.92307692, 0.95495495]), array([0.99145299, 0.93069307, 0.97029703, 0.95934959, 0.96774194,\n",
            "       0.94623656, 0.99029126, 0.93220339, 0.92307692, 0.93577982]), array([0.99145299, 0.93069307, 0.97029703, 0.95934959, 0.96774194,\n",
            "       0.94623656, 0.99029126, 0.94017094, 0.92307692, 0.94545455]), array([0.99145299, 0.93069307, 0.97029703, 0.96774194, 0.96774194,\n",
            "       0.94623656, 0.99029126, 0.94017094, 0.92307692, 0.95412844]), array([0.99145299, 0.92156863, 0.97029703, 0.96774194, 0.96774194,\n",
            "       0.94623656, 0.99029126, 0.94017094, 0.91111111, 0.95412844]), array([0.99145299, 0.92156863, 0.97029703, 0.96      , 0.96774194,\n",
            "       0.94623656, 0.99029126, 0.93220339, 0.91111111, 0.93457944])]\n",
            "precision [array([1.        , 0.94117647, 0.92307692, 0.96825397, 0.96774194,\n",
            "       0.95555556, 1.        , 0.98181818, 0.95652174, 1.        ]), array([1.        , 0.94117647, 0.92307692, 0.95238095, 0.96774194,\n",
            "       0.95555556, 1.        , 0.98181818, 0.93478261, 1.        ]), array([0.98305085, 0.94117647, 0.92307692, 0.96825397, 0.96774194,\n",
            "       0.95555556, 1.        , 0.98181818, 0.93478261, 0.98214286]), array([0.98305085, 0.94117647, 0.92307692, 0.96825397, 0.96774194,\n",
            "       0.95555556, 1.        , 0.98181818, 0.93478261, 0.98214286]), array([0.98305085, 0.96078431, 0.92307692, 0.96825397, 0.96774194,\n",
            "       0.95555556, 1.        , 0.98181818, 0.91304348, 0.98214286]), array([0.98305085, 0.94117647, 0.92307692, 0.96825397, 0.96774194,\n",
            "       0.97777778, 1.        , 0.98181818, 0.91304348, 0.96428571]), array([0.98305085, 0.92156863, 0.92307692, 0.95238095, 0.96774194,\n",
            "       0.97777778, 1.        , 0.98181818, 0.91304348, 0.96428571]), array([0.98305085, 0.92156863, 0.94230769, 0.95238095, 0.96774194,\n",
            "       0.97777778, 1.        , 0.98181818, 0.91304348, 0.96428571]), array([0.98305085, 0.92156863, 0.92307692, 0.93650794, 0.96774194,\n",
            "       0.97777778, 1.        , 0.98181818, 0.91304348, 0.92857143]), array([0.98305085, 0.92156863, 0.94230769, 0.95238095, 0.96774194,\n",
            "       0.97777778, 1.        , 1.        , 0.91304348, 0.94642857]), array([0.98305085, 0.92156863, 0.94230769, 0.93650794, 0.96774194,\n",
            "       0.97777778, 1.        , 1.        , 0.91304348, 0.91071429]), array([0.98305085, 0.92156863, 0.94230769, 0.93650794, 0.96774194,\n",
            "       0.97777778, 1.        , 1.        , 0.91304348, 0.92857143]), array([0.98305085, 0.92156863, 0.94230769, 0.95238095, 0.96774194,\n",
            "       0.97777778, 1.        , 1.        , 0.91304348, 0.92857143]), array([0.98305085, 0.92156863, 0.94230769, 0.95238095, 0.96774194,\n",
            "       0.97777778, 1.        , 1.        , 0.89130435, 0.92857143]), array([0.98305085, 0.92156863, 0.94230769, 0.95238095, 0.96774194,\n",
            "       0.97777778, 1.        , 1.        , 0.89130435, 0.89285714])]\n",
            "recall [array([1.        , 0.97959184, 1.        , 0.93846154, 0.98360656,\n",
            "       0.95555556, 1.        , 0.94736842, 0.95652174, 0.94915254]), array([1.        , 0.96      , 0.97959184, 0.95238095, 0.98360656,\n",
            "       0.91489362, 1.        , 0.94736842, 0.95555556, 0.96551724]), array([1.        , 0.96      , 1.        , 0.953125  , 0.96774194,\n",
            "       0.91489362, 1.        , 0.93103448, 0.95555556, 0.96491228]), array([1.        , 0.96      , 1.        , 0.953125  , 0.96774194,\n",
            "       0.91489362, 1.        , 0.93103448, 0.95555556, 0.96491228]), array([1.        , 0.96078431, 1.        , 0.953125  , 0.98360656,\n",
            "       0.91489362, 1.        , 0.93103448, 0.95454545, 0.94827586]), array([1.        , 0.96      , 1.        , 0.953125  , 0.98360656,\n",
            "       0.89795918, 0.98076923, 0.93103448, 0.95454545, 0.96428571]), array([1.        , 0.95918367, 1.        , 0.95238095, 0.96774194,\n",
            "       0.89795918, 0.98076923, 0.93103448, 0.95454545, 0.94736842]), array([1.        , 0.95918367, 1.        , 0.96774194, 0.96774194,\n",
            "       0.91666667, 0.98076923, 0.91525424, 0.95454545, 0.94736842]), array([1.        , 0.95918367, 1.        , 0.96721311, 0.96774194,\n",
            "       0.89795918, 0.98076923, 0.9       , 0.91304348, 0.94545455]), array([1.        , 0.95918367, 1.        , 0.98360656, 0.96774194,\n",
            "       0.91666667, 0.98076923, 0.90163934, 0.93333333, 0.96363636]), array([1.        , 0.94      , 1.        , 0.98333333, 0.96774194,\n",
            "       0.91666667, 0.98076923, 0.87301587, 0.93333333, 0.96226415]), array([1.        , 0.94      , 1.        , 0.98333333, 0.96774194,\n",
            "       0.91666667, 0.98076923, 0.88709677, 0.93333333, 0.96296296]), array([1.        , 0.94      , 1.        , 0.98360656, 0.96774194,\n",
            "       0.91666667, 0.98076923, 0.88709677, 0.93333333, 0.98113208]), array([1.        , 0.92156863, 1.        , 0.98360656, 0.96774194,\n",
            "       0.91666667, 0.98076923, 0.88709677, 0.93181818, 0.98113208]), array([1.        , 0.92156863, 1.        , 0.96774194, 0.96774194,\n",
            "       0.91666667, 0.98076923, 0.87301587, 0.93181818, 0.98039216])]\n"
          ]
        },
        {
          "output_type": "execute_result",
          "data": {
            "text/plain": [
              "Text(0.5, 0, 'k')"
            ]
          },
          "metadata": {},
          "execution_count": 6
        },
        {
          "output_type": "display_data",
          "data": {
            "text/plain": [
              "<Figure size 432x288 with 1 Axes>"
            ],
            "image/png": "[encoded data removed]"
          },
          "metadata": {
            "needs_background": "light"
          }
        }
      ]
    },
    {
      "cell_type": "markdown",
      "source": [
        "#Task 5. \n",
        "Compare the performance of selected classification algorithms (**Decision Treen, kNN, and Logistic Regression**) to ***spam detection***. The dataset can be accessed from the link: http://archive.ics.uci.edu/ml/datasets/Spambase \n",
        "Attribute Information:\n",
        "The last column of 'spambase.csv denotes whether the e-mail was considered spam (1) or not (0), i.e. unsolicited commercial e-mail. Most of the attributes indicate whether a particular word or character was frequently occuring in the e-mail. The run-length attributes (55-57) measure the length of sequences of consecutive capital letters. For the statistical measures of each attribute, see the end of this file. Here are the definitions of the attributes: \n",
        "*  48 continuous real [0,100] attributes of type word_freq_WORD \n",
        "= percentage of words in the e-mail that match WORD, i.e. 100 * (number of times the WORD appears in the e-mail) / total number of words in e-mail. A \"word\" in this case is any string of alphanumeric characters bounded by non-alphanumeric characters or end-of-string. **Example**: word_freq_address: percentage of words in the e-mail that match ADDRESS.\n",
        "*  6 continuous real [0,100] attributes of type char_freq_CHAR] \n",
        "= percentage of characters in the e-mail that match CHAR, i.e. 100 * (number of CHAR occurences) / total characters in e-mail\n",
        "*  1 continuous real [1,...] attribute of type capital_run_length_average \n",
        "= average length of uninterrupted sequences of capital letters\n",
        "*  1 continuous integer [1,...] attribute of type capital_run_length_longest \n",
        "= length of longest uninterrupted sequence of capital letters\n",
        "*  1 continuous integer [1,...] attribute of type capital_run_length_total = sum of length of uninterrupted sequences of capital letters = total number of capital letters in the e-mail\n",
        "*  1 nominal {0,1} class attribute of type spam = denotes whether the e-mail was considered spam (1) or not (0), i.e. unsolicited commercial e-mail. \n",
        "\n",
        "\n",
        "---\n",
        "\n",
        "\n",
        "In order to compare the performance of selected algorithms, some common metrics including **accuracy, precision, recall, f1 measures** could be used.\n"
      ],
      "metadata": {
        "id": "MVzSk4l505E0"
      }
    },
    {
      "cell_type": "code",
      "source": [
        "# code\n",
        "import pandas as pd\n",
        "\n",
        "from google.colab import drive\n",
        "drive.mount('/content/gdrive')\n",
        "%cd '/content/gdrive/MyDrive/lab4'\n",
        "\n",
        "data = pd.read_csv('spam.csv')\n",
        "\n",
        "# Tách đặc trưng và nhãn\n",
        "X = data.iloc[:, :-1]\n",
        "y = data.iloc[:, -1]\n",
        "\n",
        "# Chia dữ liệu thành tập huấn luyện và tập kiểm tra với tỉ lệ 70:30\n",
        "X_train, X_test, y_train, y_test = train_test_split(X, y, test_size=0.3, random_state=0)\n",
        "model = LogisticRegression()\n",
        "\n",
        "# Huấn luyện mô hình trên tập huấn luyện\n",
        "model.fit(X_train, y_train)\n",
        "y_pred = model.predict(X_test)\n",
        "\n",
        "# Tính toán các chỉ số đánh giá\n",
        "accuracy = accuracy_score(y_test, y_pred)\n",
        "precision = precision_score(y_test, y_pred)\n",
        "recall = recall_score(y_test, y_pred)\n",
        "f1 = f1_score(y_test, y_pred)\n",
        "\n",
        "# Hiển thị các chỉ số đánh giá\n",
        "print(\"Accuracy:\", accuracy)\n",
        "print(\"Precision:\", precision)\n",
        "print(\"Recall: \",recall)\n",
        "print(\"F1 Score:\",f1)\n"
      ],
      "metadata": {
        "id": "W_1v_ivR2f6D",
        "colab": {
          "base_uri": "https://localhost:8080/"
        },
        "outputId": "412ba024-1c18-40eb-f6d1-b3e3f71bcc96"
      },
      "execution_count": 9,
      "outputs": [
        {
          "output_type": "stream",
          "name": "stdout",
          "text": [
            "Drive already mounted at /content/gdrive; to attempt to forcibly remount, call drive.mount(\"/content/gdrive\", force_remount=True).\n",
            "/content/gdrive/MyDrive/lab4\n",
            "Accuracy: 0.9080376538740044\n",
            "Precision: 0.8970588235294118\n",
            "Recall:  0.8729874776386404\n",
            "F1 Score: 0.8848594741613781\n"
          ]
        },
        {
          "output_type": "stream",
          "name": "stderr",
          "text": [
            "/usr/local/lib/python3.9/dist-packages/sklearn/linear_model/_logistic.py:458: ConvergenceWarning: lbfgs failed to converge (status=1):\n",
            "STOP: TOTAL NO. of ITERATIONS REACHED LIMIT.\n",
            "\n",
            "Increase the number of iterations (max_iter) or scale the data as shown in:\n",
            "    https://scikit-learn.org/stable/modules/preprocessing.html\n",
            "Please also refer to the documentation for alternative solver options:\n",
            "    https://scikit-learn.org/stable/modules/linear_model.html#logistic-regression\n",
            "  n_iter_i = _check_optimize_result(\n"
          ]
        }
      ]
    },
    {
      "cell_type": "markdown",
      "source": [
        "#Finally,\n",
        "Save a copy in your Github. Remember renaming the notebook."
      ],
      "metadata": {
        "id": "Ok7RGkea_b7n"
      }
    }
  ]
}