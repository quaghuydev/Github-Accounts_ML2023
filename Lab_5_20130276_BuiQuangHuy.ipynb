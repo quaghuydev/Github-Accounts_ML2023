{
  "nbformat": 4,
  "nbformat_minor": 0,
  "metadata": {
    "colab": {
      "provenance": [],
      "include_colab_link": true
    },
    "kernelspec": {
      "name": "python3",
      "display_name": "Python 3"
    },
    "language_info": {
      "name": "python"
    }
  },
  "cells": [
    {
      "cell_type": "markdown",
      "metadata": {
        "id": "view-in-github",
        "colab_type": "text"
      },
      "source": [
        "<a href=\"https://colab.research.google.com/github/buiquanghuy20130276/Github-Accounts_ML2023/blob/master/Lab_5_20130276_BuiQuangHuy.ipynb\" target=\"_parent\"><img src=\"https://colab.research.google.com/assets/colab-badge.svg\" alt=\"Open In Colab\"/></a>"
      ]
    },
    {
      "cell_type": "markdown",
      "source": [
        "# This lab is to deal with **SVM** to classification tasks and compare its performance with other competitive algorithms. In general, **SVM** is one of the most popular and widely used supervised machine learning algorithms.\n",
        "\n",
        "*   **Deadline: 23:59, 17/03/2023**\n",
        "\n"
      ],
      "metadata": {
        "id": "LMzehe0sy5wr"
      }
    },
    {
      "cell_type": "markdown",
      "source": [
        "# Import libraries"
      ],
      "metadata": {
        "id": "H4nJmxp9zGX4"
      }
    },
    {
      "cell_type": "code",
      "execution_count": 2,
      "metadata": {
        "id": "DoVWQ8AEyc-C"
      },
      "outputs": [],
      "source": [
        "# code\n",
        "from sklearn import svm\n",
        "from sklearn import datasets\n",
        "from sklearn.linear_model import LogisticRegression \n",
        "from sklearn import tree\n",
        "from sklearn.metrics import confusion_matrix \n",
        "from sklearn.metrics import accuracy_score\n",
        "from sklearn.metrics import recall_score\n",
        "from sklearn.metrics import f1_score\n",
        "import matplotlib.pyplot as plt\n",
        "from sklearn.neighbors import KNeighborsClassifier\n",
        "from sklearn.model_selection import train_test_split\n",
        "from sklearn import metrics\n",
        "from prettytable import PrettyTable\n"
      ]
    },
    {
      "cell_type": "markdown",
      "source": [
        "#Task 1. \n",
        "For breast cancer dataset (https://tinyurl.com/3vme8hr3) which could be loaded from datasets in sklearn as follows:\n",
        "\n",
        "```\n",
        "#Import scikit-learn dataset library\n",
        "from sklearn import datasets\n",
        "\n",
        "#Load dataset\n",
        "cancer = datasets.load_breast_cancer()\n",
        "```\n",
        "\n",
        "*   1.1.\tApply SVM algorithm to above dataset using linear kernel.\n",
        "*   1.2.\tCompare the obtained results with other competitive algorithms (Logistic Regression, Decision Tree, kNN) based on metrics: accuracy, precision, recall, f1 measures.\n",
        "\n"
      ],
      "metadata": {
        "id": "kNv07ARGzOUm"
      }
    },
    {
      "cell_type": "code",
      "source": [
        "\n",
        "# code\n",
        "cancer = datasets.load_breast_cancer()\n",
        "# print(cancer)\n",
        "X_train, X_test, y_train, y_test = train_test_split(cancer['data'], cancer['target'], test_size=0.3, random_state=1)\n",
        "clf = svm.SVC(kernel='linear') \n",
        "clf.fit(X_train,y_train)\n",
        "y_predSvm = clf.predict(X_test)\n",
        "\n",
        "\n",
        "\n",
        "classifier = LogisticRegression()\n",
        "classifier.fit(X_train, y_train) \n",
        "y_predLogic = classifier.predict(X_test)\n",
        "\n",
        "decision = tree.DecisionTreeClassifier()\n",
        "decision.fit(X_train, y_train) \n",
        "y_predDes = decision.predict(X_test)\n",
        "\n",
        "neigh = KNeighborsClassifier(n_neighbors=3)\n",
        "neigh.fit(X_train, y_train)\n",
        "y_predKnn = neigh.predict(X_test)\n",
        "\n",
        "# print('accuracy: ',accuracy_score(y_predLogic,y_predSvm))\n",
        "# print('confusion: ',confusion_matrix(y_predLogic,y_predSvm))\n",
        "# print('recall: ',recall_score(y_predLogic,y_predSvm,average=None))\n",
        "# print('f1: ',f1_score(y_predLogic,y_predSvm,average=None))\n",
        "\n",
        "t = PrettyTable([\"Regression\",\"accuracy\",\"confusion\",\"recall\",\"f1\"])\n",
        "t.add_row([\"DecisionTree\",accuracy_score(y_predDes,y_predSvm),\n",
        "           confusion_matrix(y_predDes,y_predSvm),\n",
        "           recall_score(y_predDes,y_predSvm,average='macro'),\n",
        "           f1_score(y_predDes,y_predSvm,average='macro')])\n",
        "t.add_row([\"LogisticRegression\",accuracy_score(y_predLogic,y_predSvm),\n",
        "           confusion_matrix(y_predLogic,y_predSvm),\n",
        "           recall_score(y_predLogic,y_predSvm,average='macro'),\n",
        "           f1_score(y_predLogic,y_predSvm,average='macro')])\n",
        "t.add_row([\"KNeighbors\",accuracy_score(y_predKnn,y_predSvm),\n",
        "           confusion_matrix(y_predKnn,y_predSvm),\n",
        "           recall_score(y_predKnn,y_predSvm,average='macro'),\n",
        "           f1_score(y_predKnn,y_predSvm,average='macro')])\n",
        "\n",
        "print(t)\n",
        "\n",
        "\n",
        "\n",
        "\n",
        "\n",
        "\n"
      ],
      "metadata": {
        "id": "sOsg77IBzEyo",
        "colab": {
          "base_uri": "https://localhost:8080/"
        },
        "outputId": "472f018d-80c0-45cf-9072-fa2505134e99"
      },
      "execution_count": 20,
      "outputs": [
        {
          "output_type": "stream",
          "name": "stdout",
          "text": [
            "+--------------------+--------------------+-------------+--------------------+--------------------+\n",
            "|     Regression     |      accuracy      |  confusion  |       recall       |         f1         |\n",
            "+--------------------+--------------------+-------------+--------------------+--------------------+\n",
            "|    DecisionTree    | 0.9298245614035088 |  [[ 52   5] | 0.9254385964912281 | 0.9217271895025938 |\n",
            "|                    |                    |  [  7 107]] |                    |                    |\n",
            "| LogisticRegression | 0.9824561403508771 |  [[ 58   2] | 0.9788288288288288 |  0.98066850058409  |\n",
            "|                    |                    |  [  1 110]] |                    |                    |\n",
            "|     KNeighbors     | 0.935672514619883  |  [[ 54   6] | 0.9274774774774774 | 0.9291178354749972 |\n",
            "|                    |                    |  [  5 106]] |                    |                    |\n",
            "+--------------------+--------------------+-------------+--------------------+--------------------+\n"
          ]
        },
        {
          "output_type": "stream",
          "name": "stderr",
          "text": [
            "/usr/local/lib/python3.9/dist-packages/sklearn/linear_model/_logistic.py:458: ConvergenceWarning: lbfgs failed to converge (status=1):\n",
            "STOP: TOTAL NO. of ITERATIONS REACHED LIMIT.\n",
            "\n",
            "Increase the number of iterations (max_iter) or scale the data as shown in:\n",
            "    https://scikit-learn.org/stable/modules/preprocessing.html\n",
            "Please also refer to the documentation for alternative solver options:\n",
            "    https://scikit-learn.org/stable/modules/linear_model.html#logistic-regression\n",
            "  n_iter_i = _check_optimize_result(\n"
          ]
        }
      ]
    },
    {
      "cell_type": "markdown",
      "source": [
        "#Task 2. \n",
        "\n",
        "*   1.1.\tPerform SVM algorithm to **Iris dataset** using **linear kernel**.\n",
        "*   1.2.\tCompare the obtained results in 1.1 with SVM using other kernels (**Polynomial Kernel, Gaussian Kernel, Sigmoid Kernel, Radial Basis Function Kernel**). Some metrics could be used: accuracy, precision, recall, f1 measures\n",
        "\n",
        "\n",
        "\n"
      ],
      "metadata": {
        "id": "S43IoUT-0OQq"
      }
    },
    {
      "cell_type": "code",
      "source": [
        "# code\n",
        "from sklearn import datasets\n",
        "df = datasets.load_iris()\n",
        "# print(df)\n",
        "\n",
        "X_train, X_test, y_train, y_test = train_test_split(df['data'], df['target'], test_size=0.3, random_state=1)\n",
        "clf = svm.SVC(kernel='linear') \n",
        "clf.fit(X_train,y_train)\n",
        "y_predLinear = clf.predict(X_test)\n",
        "\n",
        "clfPoly = svm.SVC(kernel='poly') \n",
        "clfPoly.fit(X_train,y_train)\n",
        "y_predPoly = clfPoly.predict(X_test)\n",
        "\n",
        "clfrbf = svm.SVC(kernel='rbf') \n",
        "clfrbf.fit(X_train,y_train)\n",
        "y_predrbf = clfPoly.predict(X_test)\n",
        "\n",
        "clfSig = svm.SVC(kernel='sigmoid') \n",
        "clfSig.fit(X_train,y_train)\n",
        "y_predSig = clfPoly.predict(X_test)\n",
        "\n",
        "t = PrettyTable([\"Kernel\",\"accuracy\",\"confusion\",\"recall\",\"f1\"])\n",
        "\n",
        "t.add_row([\"Polynomial\",accuracy_score(y_predPoly,y_predLinear),\n",
        "           confusion_matrix(y_predPoly,y_predLinear),\n",
        "           recall_score(y_predPoly,y_predLinear,average='macro'),\n",
        "           f1_score(y_predPoly,y_predLinear,average='macro')])\n",
        "t.add_row([\"Sigmoid\",accuracy_score(y_predSig,y_predLinear),\n",
        "           confusion_matrix(y_predSig,y_predLinear),\n",
        "           recall_score(y_predSig,y_predLinear,average='macro'),\n",
        "           f1_score(y_predSig,y_predLinear,average='macro')])\n",
        "t.add_row([\"Radial Basis Function\",accuracy_score(y_predrbf,y_predLinear),\n",
        "           confusion_matrix(y_predrbf,y_predLinear),\n",
        "           recall_score(y_predrbf,y_predLinear,average='macro'),\n",
        "           f1_score(y_predrbf,y_predLinear,average='macro')])\n",
        "print(t)\n",
        "\n",
        "\n",
        "\n"
      ],
      "metadata": {
        "id": "_xhPpF5b033h",
        "colab": {
          "base_uri": "https://localhost:8080/"
        },
        "outputId": "6d8fba1e-8b2e-4999-b916-f841454d9af7"
      },
      "execution_count": 22,
      "outputs": [
        {
          "output_type": "stream",
          "name": "stdout",
          "text": [
            "+-----------------------+--------------------+--------------+--------------------+--------------------+\n",
            "|         Kernel        |      accuracy      |  confusion   |       recall       |         f1         |\n",
            "+-----------------------+--------------------+--------------+--------------------+--------------------+\n",
            "|       Polynomial      | 0.9777777777777777 | [[14  0  0]  | 0.9761904761904763 | 0.9781305114638448 |\n",
            "|                       |                    |  [ 0 17  0]  |                    |                    |\n",
            "|                       |                    |  [ 0  1 13]] |                    |                    |\n",
            "|        Sigmoid        | 0.9777777777777777 | [[14  0  0]  | 0.9761904761904763 | 0.9781305114638448 |\n",
            "|                       |                    |  [ 0 17  0]  |                    |                    |\n",
            "|                       |                    |  [ 0  1 13]] |                    |                    |\n",
            "| Radial Basis Function | 0.9777777777777777 | [[14  0  0]  | 0.9761904761904763 | 0.9781305114638448 |\n",
            "|                       |                    |  [ 0 17  0]  |                    |                    |\n",
            "|                       |                    |  [ 0  1 13]] |                    |                    |\n",
            "+-----------------------+--------------------+--------------+--------------------+--------------------+\n"
          ]
        }
      ]
    },
    {
      "cell_type": "markdown",
      "source": [
        "#Task 3. \n",
        "Compare the performance of selected classification algorithms (Decision Tree, kNN, Logistic Regression) and SVM (using different kernels) with mnist dataset based on accuracy, precision, recall, f1 measures.\n"
      ],
      "metadata": {
        "id": "b52OPWPD2afi"
      }
    },
    {
      "cell_type": "code",
      "source": [
        "from sklearn import datasets\n",
        "mnist = datasets.load_digits()\n",
        "\n",
        "classifier = LogisticRegression(random_state = 0) \n",
        "X_train, X_test, y_train, y_test = train_test_split(mnist['data'], mnist['target'], test_size=0.3, random_state=1)\n",
        "\n",
        "clf = svm.SVC(kernel='linear') \n",
        "clf.fit(X_train,y_train)\n",
        "y_predSvm = clf.predict(X_test)\n",
        "\n",
        "\n",
        "\n",
        "classifier = LogisticRegression()\n",
        "classifier.fit(X_train, y_train) \n",
        "y_predLogic = classifier.predict(X_test)\n",
        "\n",
        "decision = tree.DecisionTreeClassifier()\n",
        "decision.fit(X_train, y_train) \n",
        "y_predDes = decision.predict(X_test)\n",
        "\n",
        "neigh = KNeighborsClassifier(n_neighbors=3)\n",
        "neigh.fit(X_train, y_train)\n",
        "y_predKnn = neigh.predict(X_test)\n",
        "\n",
        "t = PrettyTable([\"Regression\",\"accuracy\",\"confusion\",\"recall\",\"f1\"])\n",
        "t.add_row([\"DecisionTree\",accuracy_score(y_predDes,y_predSvm),\n",
        "           confusion_matrix(y_predDes,y_predSvm),\n",
        "           recall_score(y_predDes,y_predSvm,average='macro'),\n",
        "           f1_score(y_predDes,y_predSvm,average='macro')])\n",
        "t.add_row([\"LogisticRegression\",accuracy_score(y_predLogic,y_predSvm),\n",
        "           confusion_matrix(y_predLogic,y_predSvm),\n",
        "           recall_score(y_predLogic,y_predSvm,average='macro'),\n",
        "           f1_score(y_predLogic,y_predSvm,average='macro')])\n",
        "t.add_row([\"KNeighbors\",accuracy_score(y_predKnn,y_predSvm),\n",
        "           confusion_matrix(y_predKnn,y_predSvm),\n",
        "           recall_score(y_predKnn,y_predSvm,average='macro'),\n",
        "           f1_score(y_predKnn,y_predSvm,average='macro')])\n",
        "\n",
        "print(t)\n",
        "\n"
      ],
      "metadata": {
        "colab": {
          "base_uri": "https://localhost:8080/"
        },
        "id": "PO4tmdY1zY1U",
        "outputId": "c75c5da6-a255-4a9e-bc57-a2de418408b1"
      },
      "execution_count": 24,
      "outputs": [
        {
          "output_type": "stream",
          "name": "stderr",
          "text": [
            "/usr/local/lib/python3.9/dist-packages/sklearn/linear_model/_logistic.py:458: ConvergenceWarning: lbfgs failed to converge (status=1):\n",
            "STOP: TOTAL NO. of ITERATIONS REACHED LIMIT.\n",
            "\n",
            "Increase the number of iterations (max_iter) or scale the data as shown in:\n",
            "    https://scikit-learn.org/stable/modules/preprocessing.html\n",
            "Please also refer to the documentation for alternative solver options:\n",
            "    https://scikit-learn.org/stable/modules/linear_model.html#logistic-regression\n",
            "  n_iter_i = _check_optimize_result(\n"
          ]
        },
        {
          "output_type": "stream",
          "name": "stdout",
          "text": [
            "+--------------------+--------------------+-----------------------------------+--------------------+--------------------+\n",
            "|     Regression     |      accuracy      |             confusion             |       recall       |         f1         |\n",
            "+--------------------+--------------------+-----------------------------------+--------------------+--------------------+\n",
            "|    DecisionTree    | 0.8722222222222222 |  [[54  0  0  0  0  0  0  0  0  0] | 0.8740550562898546 | 0.8723353745163973 |\n",
            "|                    |                    |   [ 0 41  0  0  1  0  0  0  2  2] |                    |                    |\n",
            "|                    |                    |   [ 2  3 44  1  0  0  0  1  2  1] |                    |                    |\n",
            "|                    |                    |   [ 0  0  2 52  0  0  0  1  0  1] |                    |                    |\n",
            "|                    |                    |   [ 1  3  0  0 54  0  4  1  0  1] |                    |                    |\n",
            "|                    |                    |   [ 0  1  0  1  0 46  0  0  2  2] |                    |                    |\n",
            "|                    |                    |   [ 1  0  2  0  1  0 46  0  0  0] |                    |                    |\n",
            "|                    |                    |   [ 0  0  0  2  0  0  0 50  0  1] |                    |                    |\n",
            "|                    |                    |   [ 1  2  1  1  2  0  1  0 38  4] |                    |                    |\n",
            "|                    |                    |  [ 0  0  0  7  2  2  0  3  1 46]] |                    |                    |\n",
            "| LogisticRegression | 0.9740740740740741 |  [[59  0  0  0  0  0  0  0  0  0] | 0.9737831557427713 | 0.9735512672256377 |\n",
            "|                    |                    |   [ 0 49  0  0  0  1  0  0  0  1] |                    |                    |\n",
            "|                    |                    |   [ 0  0 49  0  0  1  0  0  2  0] |                    |                    |\n",
            "|                    |                    |   [ 0  0  0 61  0  1  0  1  0  0] |                    |                    |\n",
            "|                    |                    |   [ 0  1  0  0 60  0  0  1  0  0] |                    |                    |\n",
            "|                    |                    |   [ 0  0  0  0  0 45  0  0  0  0] |                    |                    |\n",
            "|                    |                    |   [ 0  0  0  0  0  0 51  0  0  0] |                    |                    |\n",
            "|                    |                    |   [ 0  0  0  1  0  0  0 54  0  0] |                    |                    |\n",
            "|                    |                    |   [ 0  0  0  1  0  0  0  0 43  2] |                    |                    |\n",
            "|                    |                    |  [ 0  0  0  1  0  0  0  0  0 55]] |                    |                    |\n",
            "|     KNeighbors     | 0.9796296296296296 |  [[59  0  0  0  0  0  0  0  0  0] | 0.9792336340469445 | 0.9791108239414659 |\n",
            "|                    |                    |   [ 0 49  0  0  0  0  0  0  0  1] |                    |                    |\n",
            "|                    |                    |   [ 0  0 48  1  0  0  0  0  0  0] |                    |                    |\n",
            "|                    |                    |   [ 0  0  0 62  0  0  0  0  1  0] |                    |                    |\n",
            "|                    |                    |   [ 0  1  0  0 60  0  0  0  0  0] |                    |                    |\n",
            "|                    |                    |   [ 0  0  0  0  0 46  0  0  0  1] |                    |                    |\n",
            "|                    |                    |   [ 0  0  0  0  0  0 51  0  0  0] |                    |                    |\n",
            "|                    |                    |   [ 0  0  1  0  0  0  0 56  0  0] |                    |                    |\n",
            "|                    |                    |   [ 0  0  0  0  0  1  0  0 43  1] |                    |                    |\n",
            "|                    |                    |  [ 0  0  0  1  0  1  0  0  1 55]] |                    |                    |\n",
            "+--------------------+--------------------+-----------------------------------+--------------------+--------------------+\n"
          ]
        }
      ]
    },
    {
      "cell_type": "markdown",
      "source": [
        "#Task 4. \n",
        "Compare the performance of selected classification algorithms (Decision Tree, kNN, Logistic Regression) and SVM (using different kernels) with **credit card dataset** based on accuracy, precision, recall, f1 measures.\n",
        "\n",
        "*   Give some comments on the obtained results\n",
        "*   Identify issues with dataset, and propose the solutions to these issues\n",
        "\n"
      ],
      "metadata": {
        "id": "Z5pp7_h-aP2u"
      }
    },
    {
      "cell_type": "code",
      "source": [
        "# code\n",
        "import pandas as pd\n",
        "from google.colab import drive\n",
        "drive.mount('/content/gdrive')\n",
        "%cd '/content/gdrive/MyDrive/lab5'\n",
        "\n",
        "data = pd.read_csv('creditcard.csv')\n",
        "\n",
        "dataSet = data.head(30000)\n",
        "X = dataSet.iloc[:, :-1]\n",
        "y = dataSet.iloc[:, -1]\n",
        "\n",
        "classifier = LogisticRegression(random_state = 0) \n",
        "X_train, X_test, y_train, y_test = train_test_split(X, y, test_size=0.3, random_state=1)\n",
        "\n",
        "clf = svm.SVC(kernel='linear') \n",
        "clf.fit(X_train,y_train)\n",
        "y_predSvm = clf.predict(X_test)\n",
        "\n",
        "classifier = LogisticRegression()\n",
        "classifier.fit(X_train, y_train) \n",
        "y_predLogic = classifier.predict(X_test)\n",
        "\n",
        "decision = tree.DecisionTreeClassifier()\n",
        "decision.fit(X_train, y_train) \n",
        "y_predDes = decision.predict(X_test)\n",
        "\n",
        "neigh = KNeighborsClassifier(n_neighbors=3)\n",
        "neigh.fit(X_train, y_train)\n",
        "y_predKnn = neigh.predict(X_test)\n",
        "\n",
        "t = PrettyTable([\"Regression\",\"accuracy\",\"confusion\",\"recall\",\"f1\"])\n",
        "t.add_row([\"DecisionTree\",accuracy_score(y_predDes,y_predSvm),\n",
        "           confusion_matrix(y_predDes,y_predSvm),\n",
        "           recall_score(y_predDes,y_predSvm,average='macro'),\n",
        "           f1_score(y_predDes,y_predSvm,average='macro')])\n",
        "t.add_row([\"LogisticRegression\",accuracy_score(y_predLogic,y_predSvm),\n",
        "           confusion_matrix(y_predLogic,y_predSvm),\n",
        "           recall_score(y_predLogic,y_predSvm,average='macro'),\n",
        "           f1_score(y_predLogic,y_predSvm,average='macro')])\n",
        "t.add_row([\"KNeighbors\",accuracy_score(y_predKnn,y_predSvm),\n",
        "           confusion_matrix(y_predKnn,y_predSvm),\n",
        "           recall_score(y_predKnn,y_predSvm,average='macro'),\n",
        "           f1_score(y_predKnn,y_predSvm,average='macro')])\n",
        "\n",
        "print(t)"
      ],
      "metadata": {
        "id": "Rw_-8FIf2KxW",
        "colab": {
          "base_uri": "https://localhost:8080/"
        },
        "outputId": "0289b5fe-1abb-4b48-fc64-8a26f7912111"
      },
      "execution_count": 4,
      "outputs": [
        {
          "output_type": "stream",
          "name": "stdout",
          "text": [
            "Drive already mounted at /content/gdrive; to attempt to forcibly remount, call drive.mount(\"/content/gdrive\", force_remount=True).\n",
            "/content/gdrive/MyDrive/lab5\n"
          ]
        },
        {
          "output_type": "stream",
          "name": "stderr",
          "text": [
            "/usr/local/lib/python3.9/dist-packages/sklearn/linear_model/_logistic.py:458: ConvergenceWarning: lbfgs failed to converge (status=1):\n",
            "STOP: TOTAL NO. of ITERATIONS REACHED LIMIT.\n",
            "\n",
            "Increase the number of iterations (max_iter) or scale the data as shown in:\n",
            "    https://scikit-learn.org/stable/modules/preprocessing.html\n",
            "Please also refer to the documentation for alternative solver options:\n",
            "    https://scikit-learn.org/stable/modules/linear_model.html#logistic-regression\n",
            "  n_iter_i = _check_optimize_result(\n"
          ]
        },
        {
          "output_type": "stream",
          "name": "stdout",
          "text": [
            "+--------------------+--------------------+---------------+--------------------+--------------------+\n",
            "|     Regression     |      accuracy      |   confusion   |       recall       |         f1         |\n",
            "+--------------------+--------------------+---------------+--------------------+--------------------+\n",
            "|    DecisionTree    | 0.9973333333333333 |  [[8961    9] | 0.7494983277591973 | 0.777109105093057  |\n",
            "|                    |                    |  [  15   15]] |                    |                    |\n",
            "| LogisticRegression | 0.9977777777777778 |  [[8966   10] | 0.7911096256684492 | 0.7911096256684492 |\n",
            "|                    |                    |  [  10   14]] |                    |                    |\n",
            "|     KNeighbors     | 0.9975555555555555 |  [[8976   22] | 0.9987775061124695 | 0.5763110818190378 |\n",
            "|                    |                    |  [   0    2]] |                    |                    |\n",
            "+--------------------+--------------------+---------------+--------------------+--------------------+\n"
          ]
        }
      ]
    },
    {
      "cell_type": "markdown",
      "source": [
        "#Finally,\n",
        "Save a copy in your Github. Remember renaming the notebook."
      ],
      "metadata": {
        "id": "Ok7RGkea_b7n"
      }
    }
  ]
}